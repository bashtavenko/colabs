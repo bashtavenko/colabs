{
  "cells": [
    {
      "cell_type": "markdown",
      "metadata": {
        "id": "view-in-github",
        "colab_type": "text"
      },
      "source": [
        "<a href=\"https://colab.research.google.com/github/bashtavenko/colabs/blob/main/linear_algebra_basics.ipynb\" target=\"_parent\"><img src=\"https://colab.research.google.com/assets/colab-badge.svg\" alt=\"Open In Colab\"/></a>"
      ]
    },
    {
      "cell_type": "markdown",
      "metadata": {
        "id": "JwlOuHk8ckzS"
      },
      "source": [
        "Linear algebra basics"
      ]
    },
    {
      "cell_type": "code",
      "source": [
        "#@title Common imports\n",
        "import numpy as np\n",
        "import matplotlib.pyplot as plt\n"
      ],
      "metadata": {
        "id": "gJI9vGfXlrE9"
      },
      "execution_count": null,
      "outputs": []
    },
    {
      "cell_type": "markdown",
      "metadata": {
        "id": "kyICYtR8ckzT"
      },
      "source": [
        "# Vectors"
      ]
    },
    {
      "cell_type": "code",
      "execution_count": null,
      "metadata": {
        "id": "6j4s6t4Gckza"
      },
      "outputs": [],
      "source": [
        "v = np.array([1, 1])\n",
        "w = np.array([2, 3])"
      ]
    },
    {
      "cell_type": "code",
      "execution_count": null,
      "metadata": {
        "colab": {
          "base_uri": "https://localhost:8080/"
        },
        "id": "T-gY4yQtckza",
        "outputId": "345c58b5-adab-404d-8930-0980430bce8b"
      },
      "outputs": [
        {
          "output_type": "stream",
          "name": "stdout",
          "text": [
            "[8 5]\n",
            "14\n",
            "3.7416573867739413\n",
            "[0.26726124 0.80178373 0.53452248]\n",
            "45.00000000000001\n"
          ]
        }
      ],
      "source": [
        "# Linear combination\n",
        "print(3*v + 5*w)\n",
        "\n",
        "# Dot product\n",
        "v = np.array([1, 2])\n",
        "w = np.array([4, 5])\n",
        "print(np.dot(v, w))\n",
        "\n",
        "# Length (norm or magnitude)\n",
        "v = np.array([1, 3, 2])\n",
        "print(np.linalg.norm(v))\n",
        "\n",
        "# Unit vector\n",
        "print(v/np.linalg.norm(v))\n",
        "\n",
        "# Angle between vectors\n",
        "v = np.array([1, 0])\n",
        "w = np.array([1, 1])\n",
        "# 45 degrees \n",
        "print(np.rad2deg(np.arccos(np.dot(v, w)/(np.linalg.norm(v)*np.linalg.norm(w)))))"
      ]
    }
  ],
  "metadata": {
    "colab": {
      "collapsed_sections": [
        "n2TpbEbkckza",
        "poVOxgedckza",
        "jtDSDw-dckzb",
        "XLGVkb0Jckzc",
        "yNrIFWetckzd",
        "T2OOgX7sckzd",
        "wKGmhYJtckze",
        "oWQckNJnckze",
        "yYJeciK9ckze",
        "RzZKGjKCckze",
        "WgU2O26uckze",
        "lHEZIMLNckzf",
        "8_kq67Drckzh",
        "5GH-Hnhxckzh",
        "2WTNocG7ckzh",
        "oj-DG36mckzh",
        "ntDzZYznckzi",
        "tL4hY6_cckzi",
        "_V3z-Ajvckzi",
        "L7alwC-6ckzi",
        "I119scgNckzi",
        "bU2qWXoJckzi",
        "zyfREvCTckzi",
        "rWWMjsvzckzj",
        "ALJDBI-7ckzj",
        "6lu4sOobckzj",
        "27Md4Zk4ckzk",
        "tBINCI33ckzk",
        "SaEY-RgOckzk",
        "cohSSInxckzl",
        "6dTZamP6ckzl"
      ],
      "provenance": [],
      "include_colab_link": true
    },
    "kernelspec": {
      "display_name": "Python 3",
      "language": "python",
      "name": "python3"
    },
    "language_info": {
      "codemirror_mode": {
        "name": "ipython",
        "version": 3
      },
      "file_extension": ".py",
      "mimetype": "text/x-python",
      "name": "python",
      "nbconvert_exporter": "python",
      "pygments_lexer": "ipython3",
      "version": "3.7.0"
    },
    "gpuClass": "standard"
  },
  "nbformat": 4,
  "nbformat_minor": 0
}