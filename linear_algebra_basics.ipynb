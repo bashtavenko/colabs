{
  "cells": [
    {
      "cell_type": "markdown",
      "metadata": {
        "id": "view-in-github",
        "colab_type": "text"
      },
      "source": [
        "<a href=\"https://colab.research.google.com/github/bashtavenko/colabs/blob/updates/linear_algebra_basics.ipynb\" target=\"_parent\"><img src=\"https://colab.research.google.com/assets/colab-badge.svg\" alt=\"Open In Colab\"/></a>"
      ]
    },
    {
      "cell_type": "markdown",
      "metadata": {
        "id": "JwlOuHk8ckzS"
      },
      "source": [
        "Linear algebra basics"
      ]
    },
    {
      "cell_type": "code",
      "source": [
        "#@title Common imports\n",
        "import numpy as np\n",
        "import matplotlib.pyplot as plt\n"
      ],
      "metadata": {
        "id": "gJI9vGfXlrE9"
      },
      "execution_count": 2,
      "outputs": []
    },
    {
      "cell_type": "markdown",
      "metadata": {
        "id": "kyICYtR8ckzT"
      },
      "source": [
        "# Vectors"
      ]
    },
    {
      "cell_type": "code",
      "execution_count": null,
      "metadata": {
        "id": "6j4s6t4Gckza"
      },
      "outputs": [],
      "source": [
        "v = np.array([1, 1])\n",
        "w = np.array([2, 3])"
      ]
    },
    {
      "cell_type": "code",
      "execution_count": null,
      "metadata": {
        "colab": {
          "base_uri": "https://localhost:8080/"
        },
        "id": "T-gY4yQtckza",
        "outputId": "345c58b5-adab-404d-8930-0980430bce8b"
      },
      "outputs": [
        {
          "output_type": "stream",
          "name": "stdout",
          "text": [
            "[8 5]\n",
            "14\n",
            "3.7416573867739413\n",
            "[0.26726124 0.80178373 0.53452248]\n",
            "45.00000000000001\n"
          ]
        }
      ],
      "source": [
        "# Linear combination\n",
        "print(3*v + 5*w)\n",
        "\n",
        "# Dot product\n",
        "v = np.array([1, 2])\n",
        "w = np.array([4, 5])\n",
        "print(np.dot(v, w))\n",
        "\n",
        "# Length (norm or magnitude)\n",
        "v = np.array([1, 3, 2])\n",
        "print(np.linalg.norm(v))\n",
        "\n",
        "# Unit vector\n",
        "print(v/np.linalg.norm(v))\n",
        "\n",
        "# Angle between vectors\n",
        "v = np.array([1, 0])\n",
        "w = np.array([1, 1])\n",
        "# 45 degrees\n",
        "print(np.rad2deg(np.arccos(np.dot(v, w)/(np.linalg.norm(v)*np.linalg.norm(w)))))"
      ]
    },
    {
      "cell_type": "markdown",
      "source": [
        "# Matrices"
      ],
      "metadata": {
        "id": "7oA2fYvzjd7Y"
      }
    },
    {
      "cell_type": "code",
      "source": [
        "# Dot product\n",
        "a = np.array([[3, 4], [1, 5], [2, 0]])\n",
        "b = np.array([[2, 4], [1, 1]])\n",
        "print (np.dot(a, b))\n",
        "\n",
        "# Inverse\n",
        "a = np.array([[2, 3], [4, 7]])\n",
        "print (np.linalg.inv(a))"
      ],
      "metadata": {
        "id": "7IauITl6jrZH",
        "outputId": "b8fed36c-ff66-4a06-b36d-3c7fab9ab711",
        "colab": {
          "base_uri": "https://localhost:8080/"
        }
      },
      "execution_count": null,
      "outputs": [
        {
          "output_type": "stream",
          "name": "stdout",
          "text": [
            "[[10 16]\n",
            " [ 7  9]\n",
            " [ 4  8]]\n",
            "[[ 3.5 -1.5]\n",
            " [-2.   1. ]]\n"
          ]
        }
      ]
    },
    {
      "cell_type": "markdown",
      "source": [
        "# The Normal equation"
      ],
      "metadata": {
        "id": "VKzqr8MeL4R2"
      }
    },
    {
      "cell_type": "code",
      "source": [
        "#@title From hands-on code ...\n",
        "from pathlib import Path\n",
        "\n",
        "IMAGES_PATH = Path() / \"images\" / \"training_linear_models\"\n",
        "IMAGES_PATH.mkdir(parents=True, exist_ok=True)\n",
        "\n",
        "def save_fig(fig_id, tight_layout=True, fig_extension=\"png\", resolution=300):\n",
        "    path = IMAGES_PATH / f\"{fig_id}.{fig_extension}\"\n",
        "    if tight_layout:\n",
        "        plt.tight_layout()\n",
        "    plt.savefig(path, format=fig_extension, dpi=resolution)"
      ],
      "metadata": {
        "id": "8-vyOQNLMn10"
      },
      "execution_count": 4,
      "outputs": []
    },
    {
      "cell_type": "code",
      "source": [
        "import matplotlib.pyplot as plt\n",
        "\n",
        "np.random.seed(42)  # to make this code example reproducible\n",
        "m = 100  # number of instances\n",
        "X = 2 * np.random.rand(m, 1)  # column vector\n",
        "y = 4 + 3 * X + np.random.randn(m, 1)  # column vector\n",
        "\n",
        "plt.figure(figsize=(6, 4))\n",
        "plt.plot(X, y, \"b.\")\n",
        "plt.xlabel(\"$x_1$\")\n",
        "plt.ylabel(\"$y$\", rotation=0)\n",
        "plt.axis([0, 2, 0, 15])\n",
        "plt.grid()\n",
        "save_fig(\"generated_data_plot\")\n",
        "plt.show()\n"
      ],
      "metadata": {
        "id": "8sKHFIQ0MIrl",
        "outputId": "e1549208-f068-4002-ee33-e826220c50ee",
        "colab": {
          "base_uri": "https://localhost:8080/",
          "height": 407
        }
      },
      "execution_count": 6,
      "outputs": [
        {
          "output_type": "display_data",
          "data": {
            "text/plain": [
              "<Figure size 600x400 with 1 Axes>"
            ],
            "image/png": "[encoded data removed]"
          },
          "metadata": {}
        }
      ]
    }
  ],
  "metadata": {
    "colab": {
      "collapsed_sections": [
        "n2TpbEbkckza",
        "poVOxgedckza",
        "jtDSDw-dckzb",
        "XLGVkb0Jckzc",
        "yNrIFWetckzd",
        "T2OOgX7sckzd",
        "wKGmhYJtckze",
        "oWQckNJnckze",
        "yYJeciK9ckze",
        "RzZKGjKCckze",
        "WgU2O26uckze",
        "lHEZIMLNckzf",
        "8_kq67Drckzh",
        "5GH-Hnhxckzh",
        "2WTNocG7ckzh",
        "oj-DG36mckzh",
        "ntDzZYznckzi",
        "tL4hY6_cckzi",
        "_V3z-Ajvckzi",
        "L7alwC-6ckzi",
        "I119scgNckzi",
        "bU2qWXoJckzi",
        "zyfREvCTckzi",
        "rWWMjsvzckzj",
        "ALJDBI-7ckzj",
        "6lu4sOobckzj",
        "27Md4Zk4ckzk",
        "tBINCI33ckzk",
        "SaEY-RgOckzk",
        "cohSSInxckzl",
        "6dTZamP6ckzl"
      ],
      "provenance": [],
      "include_colab_link": true
    },
    "kernelspec": {
      "display_name": "Python 3",
      "language": "python",
      "name": "python3"
    },
    "language_info": {
      "codemirror_mode": {
        "name": "ipython",
        "version": 3
      },
      "file_extension": ".py",
      "mimetype": "text/x-python",
      "name": "python",
      "nbconvert_exporter": "python",
      "pygments_lexer": "ipython3",
      "version": "3.7.0"
    },
    "gpuClass": "standard"
  },
  "nbformat": 4,
  "nbformat_minor": 0
}